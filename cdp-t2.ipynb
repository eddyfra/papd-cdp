{
 "cells": [
  {
   "cell_type": "markdown",
   "id": "3c3ae241-2b91-47c5-9123-574442f70cae",
   "metadata": {},
   "source": [
    "# Ciencia de Datos en Python\n",
    "# Hoja de Trabajo # 2 - Sintaxis y Estructuras de Datos\n",
    "---\n",
    "\n",
    "#### **Parte #1 - (Programaci´on y Sintaxis):** A continuaci´on se le muestran una lista de ejercicios que debera completar utilizando Python, debe usar Markdown para indicar donde inicia cada uno de los ejercicios."
   ]
  },
  {
   "cell_type": "markdown",
   "id": "585cc90b-97bb-4124-96a2-fd57a4396593",
   "metadata": {},
   "source": [
    "__1. Haga un programa en Python que reciba de parametro un nu´mero de segundos y que despliegue en pantalla, las horas, minutos y segundos que representan. Por ejemplo:__\n",
    "+ Si el nu´mero de segundos recibidos fuera: 2743 entonces su programa deber´ıa desplegar: \n",
    " Horas: 0, Minutos: 45 , Segundos: 43\n",
    "+ Si el nu´mero de segundos recibidos fuera 5871: Horas: 1, Minutos: 37 , Segundos: 51\n",
    "Recuerde manejar excepciones y errores que considere necesarios."
   ]
  },
  {
   "cell_type": "code",
   "execution_count": 5,
   "id": "5edc199e-3d87-4dba-bf0c-be1a19729716",
   "metadata": {},
   "outputs": [
    {
     "name": "stdin",
     "output_type": "stream",
     "text": [
      "Ingrese cantidad de segundos a convertir:  6311390409 \n"
     ]
    },
    {
     "name": "stdout",
     "output_type": "stream",
     "text": [
      "<6311390409 Segundos> en Humano son: {'years': 202, 'months': 10, 'days': 28, 'hours': 12, 'minutes': 0, 'seconds': 9}\n"
     ]
    }
   ],
   "source": [
    "# manejo de excepciones\n",
    "try:\n",
    "# convierte segundos a tiempo y:M:d:h:m:s\n",
    "    def split_seg_to_time(seg:int):\n",
    "        result = dict(years=0, months=0, days=0, hours=0, minutes=0, seconds=0)\n",
    "        if(seg > 59):                                                  # split cantidad de minutos\n",
    "            result['minutes'] = int(seg/60)   \n",
    "            result['seconds'] = seg%60        \n",
    "            if(result['minutes'] > 59):                                # split cantidad de horas\n",
    "                result['hours'] = int(result['minutes']/60)\n",
    "                result['minutes'] = int(result['minutes']%60)\n",
    "                if(result['hours'] > 23):                              # split cantidad de dias\n",
    "                    result['days'] = int(result['hours']/24)\n",
    "                    result['hours'] = int(result['hours']%24)\n",
    "                    if(result['days'] > 30):                           # split cantidad de meses\n",
    "                        result['months'] = int(result['days']/30)\n",
    "                        result['days'] = int(result['days']%30)\n",
    "                        if(result['months'] > 12):                     # split cantidad de años\n",
    "                            result['years'] = int(result['months']/12)\n",
    "                            result['months'] = int(result['months']%12)\n",
    "        else:\n",
    "            result['seconds'] = seg      # si la cantida de segundos es < 60\n",
    "        return result\n",
    "except ValueError as ex:\n",
    "    print({ex})\n",
    "    \n",
    "# prompt para ingreso de datos. Utilizando input()\n",
    "seg  = int(input(\"Ingrese cantidad de segundos a convertir: \"))\n",
    "\n",
    "# mostramos el resultado \n",
    "print(f\"<{seg} Segundos> en Humano son: {split_seg_to_time(seg)}\")\n"
   ]
  },
  {
   "cell_type": "markdown",
   "id": "297c5e3f-41f9-464d-be54-f3bbe2e43356",
   "metadata": {},
   "source": [
    "---"
   ]
  },
  {
   "cell_type": "markdown",
   "id": "fdd569b0-5423-420a-8ff0-091ee0274b08",
   "metadata": {},
   "source": [
    "__2. Haga una funci´on en Python que dado un nu´mero entre 1 y 20. Y un car´acter cualquiera despliegue cuatro patrones triangulares.__\n",
    "Por ejemplo si el usuario ingresara el nu´mero 4 y el s´ımbolo * el programa deber´a desplegar lo siguiente:\\\n",
    " \\* &nbsp;&nbsp;&nbsp;&nbsp; *\\*\\*\\* &nbsp;&nbsp;&nbsp;&nbsp; \\*\\*\\*\\* &nbsp;&nbsp;&nbsp;&nbsp; \\*\\\n",
    " \\*\\* &nbsp;&nbsp;&nbsp;&nbsp; *\\*\\* &nbsp;&nbsp;&nbsp;&nbsp; \\*\\*\\* &nbsp;&nbsp;&nbsp;&nbsp; \\*\\*\\\n",
    " \\*\\*\\* &nbsp;&nbsp;&nbsp;&nbsp; \\*\\* &nbsp;&nbsp;&nbsp;&nbsp; \\*\\* &nbsp;&nbsp;&nbsp;&nbsp; \\*\\*\\*\\\n",
    " \\*\\*\\*\\* &nbsp;&nbsp;&nbsp;&nbsp; \\* &nbsp;&nbsp;&nbsp;&nbsp; \\* &nbsp;&nbsp;&nbsp;&nbsp; \\*\\*\\*\\*"
   ]
  },
  {
   "cell_type": "code",
   "execution_count": 23,
   "id": "c26e44d8-b510-400f-8125-5cc003dc4ac4",
   "metadata": {},
   "outputs": [
    {
     "name": "stdin",
     "output_type": "stream",
     "text": [
      "Cual caracter deseas mostrar?:  #\n",
      "Cuatas repeticiones deseas?:  0\n",
      "El numero de repeticiones permitido es entre 1 y 20?:  21\n",
      "El numero de repeticiones permitido es entre 1 y 20?:  11\n"
     ]
    },
    {
     "name": "stdout",
     "output_type": "stream",
     "text": [
      "#            ###########  ###########            #\n",
      "##            ##########  ##########            ##\n",
      "###            #########  #########            ###\n",
      "####            ########  ########            ####\n",
      "#####            #######  #######            #####\n",
      "######            ######  ######            ######\n",
      "#######            #####  #####            #######\n",
      "########            ####  ####            ########\n",
      "#########            ###  ###            #########\n",
      "##########            ##  ##            ##########\n",
      "###########            #  #            ###########\n"
     ]
    }
   ],
   "source": [
    "# manejo de excepciones\n",
    "try:\n",
    "    def plotear(char,rep):\n",
    "        for i in range(1, rep):\n",
    "            cadena = char*i +' '*rep + char*(rep-i) +'  '+ char*(rep-i) +' '*rep + char*i \n",
    "            print(cadena)\n",
    "\n",
    "except ValueError as ex:\n",
    "    print({ex})\n",
    "\n",
    "# ingreso de datos para generar grafixa\n",
    "char  = input(\"Cual caracter deseas mostrar?: \")[:1]\n",
    "rep  = int(input(\"Cuatas repeticiones deseas?: \"))\n",
    "while rep < 1 or rep >20:                 # validar num repeticiones entre 1 y 20\n",
    "    rep  = int(input(\"El numero de repeticiones permitido es entre 1 y 20?: \"))\n",
    "    \n",
    "plotear(char,rep+1)         # plotear la grafx con los caracteres y num de repeticiones\n",
    "\n"
   ]
  },
  {
   "cell_type": "markdown",
   "id": "eac6910e-84fc-4cee-b8ff-9915a457b515",
   "metadata": {},
   "source": [
    "---"
   ]
  },
  {
   "cell_type": "markdown",
   "id": "9846cc0b-8f02-482c-909b-47e0dfc329f2",
   "metadata": {},
   "source": [
    "__3. Haga un programa en Python que la fecha de nacimiento de una persona (puede ingresar por separado cada valor, es decir pedir primero día, luego mes y luego año), despliegue la edad de la persona en an˜os, meses y d´ıas. Su resultado puede ser aproximado.__"
   ]
  },
  {
   "cell_type": "code",
   "execution_count": 8,
   "id": "b8528f5a-30aa-4e61-8e12-6a986a1e2f79",
   "metadata": {},
   "outputs": [
    {
     "name": "stdout",
     "output_type": "stream",
     "text": [
      "Llevas viviendo en este planeta: 8121 days, 0:00:00\n",
      "++++++++++++++++++++++++++++++++++++++++++++++++++++++++++++++++++\n",
      "++ Hola! Ingresea la fecha en que naciste en el orden:        ++++\n",
      "++ Dia, Mes, Año                                              ++++\n"
     ]
    },
    {
     "name": "stdin",
     "output_type": "stream",
     "text": [
      "cual es el numero de dia en que naciste?:   1\n",
      "Ahora ingresa el numero de mes en que naciste (1-12):  1\n",
      "Por ultimo, ingresa el año en que naciste:   2000\n"
     ]
    },
    {
     "name": "stdout",
     "output_type": "stream",
     "text": [
      "Llevas viviendo en este planeta: {'years': 23, 'months': 6, 'days': 4}\n"
     ]
    }
   ],
   "source": [
    "## importar librerias datetime\n",
    "import datetime\n",
    "from datetime import date\n",
    "from datetime import timedelta\n",
    "\n",
    "try:\n",
    "# convierte fecha nacimiento a edad y:m:d\n",
    "    def bday_to_age(bday):\n",
    "        age =  date.today()-bday\n",
    "        result = dict(years=0, months=0, days=0)\n",
    "        if(age.days > 30):                           # split cantidad de meses\n",
    "            result['months'] = int(age.days/30)\n",
    "            result['days'] = int(age.days%30)\n",
    "            if(result['months'] > 12):                     # split cantidad de años\n",
    "                result['years'] = int(result['months']/12)\n",
    "                result['months'] = int(result['months']%12)\n",
    "        else:\n",
    "            result['days'] = age.days      # si la cantida de segundos es < 60\n",
    "        return result\n",
    "\n",
    "    def show_bday_request():\n",
    "        today = date.today()\n",
    "        bday = dict(d=0,m=0,y=9999)\n",
    "        # solicitar el ingreo de la fecha de nacimiento\n",
    "        print(\"++++++++++++++++++++++++++++++++++++++++++++++++++++++++++++++++++\")\n",
    "        print(\"++ Hola! Ingresea la fecha en que naciste en el orden:        ++++\")\n",
    "        print(\"++ Dia, Mes, Año                                              ++++\")\n",
    "        bday['d'] = int(input(\"cual es el numero de dia en que naciste?:  \"))\n",
    "        while not(bday['d'] >0 and bday['d'] <= 31):                 # valida dia entre 1 y 31\n",
    "            bday['d']  = int(input(\"El numero de repeticiones permitido es entre 1 y 20?: \"))\n",
    "        while not(bday['m'] >0 and bday['m'] <= 12):                 # validar mes entre 1 y 12\n",
    "            bday['m']  = int(input(\"Ahora ingresa el numero de mes en que naciste (1-12): \"))\n",
    "        while not(bday['y'] <= today.year):                 # valiar año igual o menor al acual\n",
    "            bday['y']  = int(input(\"Por ultimo, ingresa el año en que naciste:  \"))\n",
    "        print(f\"Llevas viviendo en este planeta: {bday_to_age(date(bday['y'],bday['m'],bday['d']))}\")  # mostrar el resultado\n",
    "              \n",
    "except ValueError as ex:\n",
    "    print({ex})\n",
    "\n",
    "show_bday_request()   # mostrar el resultado de la edad"
   ]
  },
  {
   "cell_type": "markdown",
   "id": "2009e252-6359-403d-869e-9180994896a4",
   "metadata": {},
   "source": [
    "---"
   ]
  },
  {
   "cell_type": "markdown",
   "id": "bbdcb20f-ce98-4fa7-bc3e-1d9cab80f2ef",
   "metadata": {},
   "source": [
    "__4. Escriba una funci´on en Python que dada una tupla de elementos (nu´meros o letras) esta se convierta a un string.__\n",
    "Tomar nota del siguiente ejemplo:\n",
    "+ Si la entrada fuera: (10, 20, 40, 5, 70)\n",
    "+ La salida deber´ıa ser: 102040570"
   ]
  },
  {
   "cell_type": "code",
   "execution_count": 34,
   "id": "019b9303-fe7d-47a2-bc59-a74b1627ca7e",
   "metadata": {},
   "outputs": [
    {
     "name": "stdout",
     "output_type": "stream",
     "text": [
      "++++++++++++++++++++++++++++++++++++++++++++++++++++++++++++++++++\n",
      "++ Ejemplo de formato valido...                              ++++\n",
      "++  (10, 20, 40, 5, 70)                                      ++++\n",
      "++++++++++++++++++++++++++++++++++++++++++++++++++++++++++++++++++\n",
      "\n"
     ]
    },
    {
     "name": "stdin",
     "output_type": "stream",
     "text": [
      "Ingresa la Tupla (...) y presiona <Enter>...: (10, 20, 40, 5, 70)\n"
     ]
    },
    {
     "name": "stdout",
     "output_type": "stream",
     "text": [
      "102040570\n"
     ]
    }
   ],
   "source": [
    "def trim_string(tupla):\n",
    "    char = ['(',')',',',' ']\n",
    "    for i in char:\n",
    "        tupla = tupla.replace(i,\"\")\n",
    "    return tupla\n",
    "\n",
    "# solicitar el ingreo de la tupla a convertir\n",
    "print(\"++++++++++++++++++++++++++++++++++++++++++++++++++++++++++++++++++\")\n",
    "print(\"++ Ejemplo de formato valido...                              ++++\")\n",
    "print(\"++  (10, 20, 40, 5, 70)                                      ++++\")\n",
    "print(\"++++++++++++++++++++++++++++++++++++++++++++++++++++++++++++++++++\\n\")\n",
    "\n",
    "lista = input(f\"Ingresa la Tupla (...) y presiona <Enter>...:\")\n",
    "print(trim_string(lista))\n",
    "#[1:len(lista)-1]\n",
    "\n",
    "#print(f\"\\n >>La Tupla formada es: << {tupla} >>\")\n",
    "#print(f\" >>El String formado es: << {''.join(tupla)} >>\")"
   ]
  },
  {
   "cell_type": "markdown",
   "id": "f68dda3d-739d-4d23-b841-cd27c16a32f9",
   "metadata": {},
   "source": [
    "__5. Cree un programa en Python que dada una lista de tuplas, elimine las tuplas que estan vacıas.__\n",
    "Tomar nota del siguiente ejemplo:\n",
    "+ Si la lista fuera: [(), (), (’X’,), (’a’, ’b’), (’a’, ’b’, ’c’), (’d’)]\n",
    "+ El resultado deber´ıa ser: [(’X’), (’a’, ’b’), (’a’, ’b’, ’c’), ’d’]"
   ]
  },
  {
   "cell_type": "code",
   "execution_count": 14,
   "id": "47bb7602-a459-4087-ba84-ed2a0aca742b",
   "metadata": {},
   "outputs": [
    {
     "name": "stdout",
     "output_type": "stream",
     "text": [
      "++++++++++++++++++++++++++++++++++++++++++++++++++++++++++++++++++\n",
      "++ Ejemplo de formato valido...                              ++++\n",
      "++  (10, 20, 40, 5, 70)                                      ++++\n",
      "++++++++++++++++++++++++++++++++++++++++++++++++++++++++++++++++++\n",
      "\n"
     ]
    },
    {
     "name": "stdin",
     "output_type": "stream",
     "text": [
      "Ingresa la Tupla (...) y presiona <Enter>...: (), (), (’X’,), (’a’, ’b’), (’a’, ’b’, ’c’), (’d’)\n"
     ]
    },
    {
     "name": "stdout",
     "output_type": "stream",
     "text": [
      "  (’X’, (’a’, ’b’), (’a’, ’b’, ’c’), (’d’)\n"
     ]
    }
   ],
   "source": [
    "def trim_string(tupla):\n",
    "    char = ['(),','() ,','( ),','( ) ,']\n",
    "    for i in char:\n",
    "        tupla = tupla.replace(i,\"\")\n",
    "    return tupla\n",
    "\n",
    "# solicitar el ingreo de la tupla a convertir\n",
    "print(\"+++++++++++++++++++++++++++++++++++++++++++++++++++++++++++++++++\")\n",
    "print(\"++ Ejemplo de formato valido...                              ++++\")\n",
    "print(\"++  (), (), (’X’,), (’a’, ’b’), (’a’, ’b’, ’c’), (’d’)       ++++\")\n",
    "print(\"+++++++++++++++++++++++++++++++++++++++++++++++++++++++++++++++++\\n\")\n",
    "\n",
    "lista = input(f\"Ingresa la Tupla (...) y presiona <Enter>...:\")\n",
    "print(trim_string(lista))\n",
    "\n",
    "#lista\n"
   ]
  },
  {
   "cell_type": "markdown",
   "id": "ffb94ce5-54d6-4d8d-a3f0-04dc28f22e61",
   "metadata": {},
   "source": [
    "---"
   ]
  },
  {
   "cell_type": "markdown",
   "id": "ec02f346-f86d-447f-9093-b88e06ad1d51",
   "metadata": {},
   "source": [
    "__6. Cree una funcion en Python que dada una tupla de tuplas con numeros, produzca una tupla con el promedio de cada tupla individual.__\n",
    "Tomar nota del siguiente ejemplo:\n",
    "+ Si la tupla de entrada fuera: ((10, 10, 10, 12), (30, 45, 56, 45), (81, 80, 39, 32))\n",
    "+ El resultado deber´ıa ser: (10.5, 44, 58)"
   ]
  },
  {
   "cell_type": "code",
   "execution_count": 16,
   "id": "c2047e8a-12e6-4c74-bea0-3c1828c45ab5",
   "metadata": {},
   "outputs": [
    {
     "name": "stdout",
     "output_type": "stream",
     "text": [
      "(10, 10, 10, 12\n",
      "(10, 10, 10, 12\n",
      "(10, 10, 10, 12\n"
     ]
    }
   ],
   "source": [
    "import numpy as np\n",
    "\n",
    "def trim_string(tupla):\n",
    "    char = ['(',')']\n",
    "    for j in tupla:\n",
    "        print(j)\n",
    "        for i in char:\n",
    "            print(j)\n",
    "            tp = j.replace(i,\"\")\n",
    "            lista = np.array(tp.split(\",\"))\n",
    "        return lista\n",
    "\n",
    "cadena = \"(10, 10, 10, 12), (30, 45, 56, 45), (81, 80, 39, 32)\"\n",
    "separador = \"), (\"\n",
    "separado = cadena.split(separador)\n",
    "valor = trim_string(separado)\n",
    "#valor\n",
    "#promedio = np.mean(valor)"
   ]
  },
  {
   "cell_type": "markdown",
   "id": "bde45460-4ccf-406c-b5dd-c7b5190928bd",
   "metadata": {},
   "source": [
    "---"
   ]
  },
  {
   "cell_type": "markdown",
   "id": "729e278e-8b7d-4d52-b1d8-1fa065885823",
   "metadata": {},
   "source": [
    "__7. Escribir un programa que gestione las facturas pendientes de cobro de una empresa. \n",
    "Las facturas se almacenar´an en un diccionario donde la llave de cada factura ser´a el nu´mero de\n",
    "factura (debe utilizar un numero de 4 d´ıgitos) y el valor el coste de la factura. El programa\n",
    "debe preguntar al usuario si quiere an˜adir una nueva factura, pagar una existente o terminar.\n",
    "Si desea an˜adir una nueva factura se preguntar´a por el nu´mero de factura y su coste y se\n",
    "an˜adir´a al diccionario, para confirmar que la factura se ingreso correctamente el programa\n",
    "debe desplegar el diccionario completo. Si se desea pagar una factura se preguntar´a por el\n",
    "nu´mero de factura y se eliminar´a del diccionario. Despu´es de cada operaci´on el programa\n",
    "debe mostrar en pantalla la cantidad cobrada hasta el momento y la cantidad pendiente de\n",
    "cobro.__ Puede utilizar otras estructuras de datos como apoyo si lo considera necesario."
   ]
  },
  {
   "cell_type": "code",
   "execution_count": 82,
   "id": "ce315cc0-93c5-4cef-ab73-5abd726d811a",
   "metadata": {
    "tags": []
   },
   "outputs": [
    {
     "name": "stdout",
     "output_type": "stream",
     "text": [
      "╔═══════════════════════════════════════════════════════╗\n",
      "║            FACTURACION -> MENU PRINCIPAL              ║\n",
      "║                                                       ║\n",
      "║    A : añadir una nueva factura                       ║\n",
      "║    P : pagar una factura existente                    ║\n",
      "║    Q : salir del sistema                              ║\n",
      "║                                                       ║\n",
      "╚═══════════════════════════════════════════════════════╝\n"
     ]
    },
    {
     "ename": "KeyboardInterrupt",
     "evalue": "Interrupted by user",
     "output_type": "error",
     "traceback": [
      "\u001b[1;31m---------------------------------------------------------------------------\u001b[0m",
      "\u001b[1;31mKeyboardInterrupt\u001b[0m                         Traceback (most recent call last)",
      "\u001b[1;32m~\\AppData\\Local\\Temp\\ipykernel_8104\\3606986591.py\u001b[0m in \u001b[0;36m<module>\u001b[1;34m\u001b[0m\n\u001b[0;32m     53\u001b[0m     \u001b[1;32mreturn\u001b[0m \u001b[0mresult\u001b[0m\u001b[1;33m\u001b[0m\u001b[1;33m\u001b[0m\u001b[0m\n\u001b[0;32m     54\u001b[0m \u001b[1;33m\u001b[0m\u001b[0m\n\u001b[1;32m---> 55\u001b[1;33m \u001b[0mopt\u001b[0m \u001b[1;33m=\u001b[0m \u001b[0mshow_menu\u001b[0m\u001b[1;33m(\u001b[0m\u001b[1;33m)\u001b[0m     \u001b[1;31m# mostrar main menu\u001b[0m\u001b[1;33m\u001b[0m\u001b[1;33m\u001b[0m\u001b[0m\n\u001b[0m\u001b[0;32m     56\u001b[0m \u001b[1;32mwhile\u001b[0m \u001b[1;33m(\u001b[0m\u001b[0mopt\u001b[0m \u001b[1;33m!=\u001b[0m \u001b[1;34m'Q'\u001b[0m\u001b[1;33m)\u001b[0m\u001b[1;33m:\u001b[0m\u001b[1;33m\u001b[0m\u001b[1;33m\u001b[0m\u001b[0m\n\u001b[0;32m     57\u001b[0m     \u001b[1;32mif\u001b[0m\u001b[1;33m(\u001b[0m\u001b[0mopt\u001b[0m \u001b[1;33m==\u001b[0m \u001b[1;34m'A'\u001b[0m\u001b[1;33m)\u001b[0m\u001b[1;33m:\u001b[0m\u001b[1;33m\u001b[0m\u001b[1;33m\u001b[0m\u001b[0m\n",
      "\u001b[1;32m~\\AppData\\Local\\Temp\\ipykernel_8104\\3606986591.py\u001b[0m in \u001b[0;36mshow_menu\u001b[1;34m()\u001b[0m\n\u001b[0;32m     49\u001b[0m     \u001b[0mprint\u001b[0m\u001b[1;33m(\u001b[0m\u001b[1;34m\"║                                                       ║\"\u001b[0m\u001b[1;33m)\u001b[0m\u001b[1;33m\u001b[0m\u001b[1;33m\u001b[0m\u001b[0m\n\u001b[0;32m     50\u001b[0m     \u001b[0mprint\u001b[0m\u001b[1;33m(\u001b[0m\u001b[1;34m\"╚═══════════════════════════════════════════════════════╝\"\u001b[0m\u001b[1;33m)\u001b[0m\u001b[1;33m\u001b[0m\u001b[1;33m\u001b[0m\u001b[0m\n\u001b[1;32m---> 51\u001b[1;33m     \u001b[0mresult\u001b[0m \u001b[1;33m=\u001b[0m \u001b[0minput\u001b[0m\u001b[1;33m(\u001b[0m\u001b[1;34m\"Seleccione la opción deseada: \"\u001b[0m\u001b[1;33m)\u001b[0m\u001b[1;33m[\u001b[0m\u001b[1;33m:\u001b[0m\u001b[1;36m1\u001b[0m\u001b[1;33m]\u001b[0m\u001b[1;33m\u001b[0m\u001b[1;33m\u001b[0m\u001b[0m\n\u001b[0m\u001b[0;32m     52\u001b[0m \u001b[1;33m\u001b[0m\u001b[0m\n\u001b[0;32m     53\u001b[0m     \u001b[1;32mreturn\u001b[0m \u001b[0mresult\u001b[0m\u001b[1;33m\u001b[0m\u001b[1;33m\u001b[0m\u001b[0m\n",
      "\u001b[1;32m~\\anaconda3\\lib\\site-packages\\ipykernel\\kernelbase.py\u001b[0m in \u001b[0;36mraw_input\u001b[1;34m(self, prompt)\u001b[0m\n\u001b[0;32m   1175\u001b[0m                 \u001b[1;34m\"raw_input was called, but this frontend does not support input requests.\"\u001b[0m\u001b[1;33m\u001b[0m\u001b[1;33m\u001b[0m\u001b[0m\n\u001b[0;32m   1176\u001b[0m             )\n\u001b[1;32m-> 1177\u001b[1;33m         return self._input_request(\n\u001b[0m\u001b[0;32m   1178\u001b[0m             \u001b[0mstr\u001b[0m\u001b[1;33m(\u001b[0m\u001b[0mprompt\u001b[0m\u001b[1;33m)\u001b[0m\u001b[1;33m,\u001b[0m\u001b[1;33m\u001b[0m\u001b[1;33m\u001b[0m\u001b[0m\n\u001b[0;32m   1179\u001b[0m             \u001b[0mself\u001b[0m\u001b[1;33m.\u001b[0m\u001b[0m_parent_ident\u001b[0m\u001b[1;33m[\u001b[0m\u001b[1;34m\"shell\"\u001b[0m\u001b[1;33m]\u001b[0m\u001b[1;33m,\u001b[0m\u001b[1;33m\u001b[0m\u001b[1;33m\u001b[0m\u001b[0m\n",
      "\u001b[1;32m~\\anaconda3\\lib\\site-packages\\ipykernel\\kernelbase.py\u001b[0m in \u001b[0;36m_input_request\u001b[1;34m(self, prompt, ident, parent, password)\u001b[0m\n\u001b[0;32m   1217\u001b[0m             \u001b[1;32mexcept\u001b[0m \u001b[0mKeyboardInterrupt\u001b[0m\u001b[1;33m:\u001b[0m\u001b[1;33m\u001b[0m\u001b[1;33m\u001b[0m\u001b[0m\n\u001b[0;32m   1218\u001b[0m                 \u001b[1;31m# re-raise KeyboardInterrupt, to truncate traceback\u001b[0m\u001b[1;33m\u001b[0m\u001b[1;33m\u001b[0m\u001b[0m\n\u001b[1;32m-> 1219\u001b[1;33m                 \u001b[1;32mraise\u001b[0m \u001b[0mKeyboardInterrupt\u001b[0m\u001b[1;33m(\u001b[0m\u001b[1;34m\"Interrupted by user\"\u001b[0m\u001b[1;33m)\u001b[0m \u001b[1;32mfrom\u001b[0m \u001b[1;32mNone\u001b[0m\u001b[1;33m\u001b[0m\u001b[1;33m\u001b[0m\u001b[0m\n\u001b[0m\u001b[0;32m   1220\u001b[0m             \u001b[1;32mexcept\u001b[0m \u001b[0mException\u001b[0m\u001b[1;33m:\u001b[0m\u001b[1;33m\u001b[0m\u001b[1;33m\u001b[0m\u001b[0m\n\u001b[0;32m   1221\u001b[0m                 \u001b[0mself\u001b[0m\u001b[1;33m.\u001b[0m\u001b[0mlog\u001b[0m\u001b[1;33m.\u001b[0m\u001b[0mwarning\u001b[0m\u001b[1;33m(\u001b[0m\u001b[1;34m\"Invalid Message:\"\u001b[0m\u001b[1;33m,\u001b[0m \u001b[0mexc_info\u001b[0m\u001b[1;33m=\u001b[0m\u001b[1;32mTrue\u001b[0m\u001b[1;33m)\u001b[0m\u001b[1;33m\u001b[0m\u001b[1;33m\u001b[0m\u001b[0m\n",
      "\u001b[1;31mKeyboardInterrupt\u001b[0m: Interrupted by user"
     ]
    }
   ],
   "source": [
    "import time\n",
    "\n",
    "# inicializar almacen de datos\n",
    "facturas = {}\n",
    "recibos = {}\n",
    "\n",
    "# añadir factura\n",
    "def add_fact():\n",
    "    print(\"╔═══════════════════════════════════════════════════════╗\")\n",
    "    print(\"║          [A]  FACTURAS -> AGREGAR NUEVO DOCTO         ║\")\n",
    "    print(\"║    Q : menu anterior                                  ║\")\n",
    "    print(\"╚═══════════════════════════════════════════════════════╝\")\n",
    "    docto = input(\"Ingrese el Numero de Documento (4 digitos)...: \")\n",
    "    while len(docto) != 4:                 # valida dia entre 1 y 31\n",
    "        docto = input(\"Ingrese el Numero de Documento (4 digitos)...: \")\n",
    "    monto = float(input(\"Ingrese el Monto del Documento...: \"))\n",
    "    facturas[docto] = monto\n",
    "    print(\"Guardando Factura...\\n\")\n",
    "    time.sleep(1.5) # Sleep for x seconds\n",
    "    \n",
    "    return facturas\n",
    "\n",
    "# añadir factura\n",
    "def rem_fact():\n",
    "    print(\"╔═══════════════════════════════════════════════════════╗\")\n",
    "    print(\"║          [P]  FACTURAS -> PAGAR  DOCTO                ║\")\n",
    "    print(\"║    Q : menu anterior                                  ║\")\n",
    "    print(\"╚═══════════════════════════════════════════════════════╝\")\n",
    "    docto = input(\"Ingrese el Numero de Documento (4 digitos)...: \")\n",
    "    while not(docto == 'Q' or docto in facturas):                 # valida dia entre 1 y 31\n",
    "        print(docto)\n",
    "        docto = input(\"Documento No Valido ;( Intente nuevamente... \")\n",
    "    if docto in facturas:\n",
    "        recibos[docto] = facturas[docto]\n",
    "        print(\";) Gracias por su Pago...\\n\")\n",
    "        facturas.pop(docto)\n",
    "    time.sleep(1.5) # Sleep for x seconds\n",
    "    \n",
    "    return facturas\n",
    "\n",
    "# mostrar menu\n",
    "def show_menu():\n",
    "    print(\"╔═══════════════════════════════════════════════════════╗\")\n",
    "    print(\"║            FACTURACION -> MENU PRINCIPAL              ║\")\n",
    "    print(\"║                                                       ║\")\n",
    "    print(\"║    A : añadir una nueva factura                       ║\")\n",
    "    print(\"║    P : pagar una factura existente                    ║\")\n",
    "    print(\"║    Q : salir del sistema                              ║\")\n",
    "    print(\"║                                                       ║\")\n",
    "    print(\"╚═══════════════════════════════════════════════════════╝\")\n",
    "    result = input(\"Seleccione la opción deseada: \")[:1]\n",
    "    \n",
    "    return result\n",
    "\n",
    "opt = show_menu()     # mostrar main menu \n",
    "while (opt != 'Q'):\n",
    "    if(opt == 'A'):\n",
    "        print(f\">> Listado de Facturas Pendientes de Pago: {add_fact()}\\n\")\n",
    "    if(opt == 'P'):\n",
    "        rem_fact()\n",
    "    print(f\">> + Saldo Pendiente de Pago : Q. {sum(facturas.values())}\")\n",
    "    print(f\">> - Saldo Pagos Recibidos   :             Q. {sum(recibos.values())}\")\n",
    "    opt = show_menu()\n",
    "print(\"[Q] Saliendo del Sistema...\")\n",
    "time.sleep(0.5) # Sleep for x seconds\n",
    "print(\".\")\n",
    "time.sleep(0.5) # Sleep for x seconds\n",
    "print(\"..\")\n",
    "time.sleep(0.9) # Sleep for x seconds\n",
    "print(\"Good Bye! \")"
   ]
  },
  {
   "cell_type": "markdown",
   "id": "e22bff90-5cd3-42ae-aa59-cd6dc504e4cc",
   "metadata": {},
   "source": [
    "---"
   ]
  },
  {
   "cell_type": "markdown",
   "id": "0c55122c-5270-4397-9c25-7e817223633f",
   "metadata": {},
   "source": [
    "__8. Haga una funci´on en Python, que cree un set con todas las cartas de una baraja de Pocker utilizando el siguiente formato: Tipo-Numero. Utilice las letras T para tr´eboles, C para corazones, P para picas y E para espadas.__ \n",
    "Para los numeros utilice la numeracion del 1 al 13. Por ejemplo E13 - serıa Rey de Espadas, P01 serıa As de Picas, T05 serıa cinco de Treboles. \n",
    "+ Posteriormente cree una funci´on que dado el conjunto anterior cree dos sets nuevos de cartas, cada conjunto debe tener una cantidad variable de elementos, puede utilizar nu´meros aleatorios enteros para definir la longitud de los conjuntos.\n",
    "+ Adicionalmente, deber´a calcular la probabilidad de la intersecci´on de ambos conjuntos y demuestre si son eventos independientes con la regla del producto.\n",
    "+ Para concluir, calcule probabilidad de la uni´on de ambos conjuntos y demuestre que se cumple la regla de la adici´on."
   ]
  },
  {
   "cell_type": "code",
   "execution_count": 99,
   "id": "70b27e58-1dad-4d9f-937f-0fd55421fe30",
   "metadata": {},
   "outputs": [
    {
     "name": "stdout",
     "output_type": "stream",
     "text": [
      "T\n",
      "C\n",
      "P\n",
      "E\n",
      "      0\n",
      "0   13P\n",
      "1   05E\n",
      "2   05P\n",
      "3   06P\n",
      "4   10C\n",
      "5   10T\n",
      "6   09T\n",
      "7   04P\n",
      "8   06T\n",
      "9   01T\n",
      "10  04E\n",
      "11  13E\n",
      "12  02T\n",
      "13  05C\n",
      "14  02P\n",
      "15  11P\n",
      "16  12C\n",
      "17  08P\n",
      "18  01E\n",
      "19  04T\n",
      "20  04C\n",
      "21  10E\n",
      "22  01C\n",
      "23  07P\n",
      "24  13T\n",
      "25  07C\n",
      "26  03E\n",
      "27  07E\n",
      "28  13C\n",
      "29  07T\n",
      "30  11T\n",
      "31  12E\n",
      "32  02C\n",
      "33  12T\n",
      "34  11C\n",
      "35  01P\n",
      "36  03T\n",
      "37  11E\n",
      "38  08E\n",
      "39  08C\n",
      "40  12P\n",
      "41  03C\n",
      "42  09E\n",
      "43  05T\n",
      "44  06E\n",
      "45  08T\n",
      "46  10P\n",
      "47  06C\n",
      "48  09C\n",
      "49  03P\n",
      "50  02E\n",
      "51  09P\n"
     ]
    },
    {
     "ename": "TypeError",
     "evalue": "'set' object is not subscriptable",
     "output_type": "error",
     "traceback": [
      "\u001b[1;31m---------------------------------------------------------------------------\u001b[0m",
      "\u001b[1;31mTypeError\u001b[0m                                 Traceback (most recent call last)",
      "\u001b[1;32m~\\AppData\\Local\\Temp\\ipykernel_8104\\3866697391.py\u001b[0m in \u001b[0;36m<module>\u001b[1;34m\u001b[0m\n\u001b[0;32m     23\u001b[0m \u001b[0mcartas\u001b[0m \u001b[1;33m=\u001b[0m \u001b[0mcreate_set_cartas\u001b[0m\u001b[1;33m(\u001b[0m\u001b[1;33m)\u001b[0m\u001b[1;33m\u001b[0m\u001b[1;33m\u001b[0m\u001b[0m\n\u001b[0;32m     24\u001b[0m \u001b[0mprint\u001b[0m\u001b[1;33m(\u001b[0m\u001b[0mdf\u001b[0m\u001b[1;33m)\u001b[0m\u001b[1;33m\u001b[0m\u001b[1;33m\u001b[0m\u001b[0m\n\u001b[1;32m---> 25\u001b[1;33m \u001b[0mdf1\u001b[0m \u001b[1;33m=\u001b[0m \u001b[0msubset_cartas\u001b[0m\u001b[1;33m(\u001b[0m\u001b[0mrn\u001b[0m\u001b[1;33m.\u001b[0m\u001b[0mrandint\u001b[0m\u001b[1;33m(\u001b[0m\u001b[1;36m1\u001b[0m\u001b[1;33m,\u001b[0m\u001b[1;36m53\u001b[0m\u001b[1;33m)\u001b[0m\u001b[1;33m,\u001b[0m \u001b[0mcartas\u001b[0m\u001b[1;33m)\u001b[0m\u001b[1;33m\u001b[0m\u001b[1;33m\u001b[0m\u001b[0m\n\u001b[0m",
      "\u001b[1;32m~\\AppData\\Local\\Temp\\ipykernel_8104\\3866697391.py\u001b[0m in \u001b[0;36msubset_cartas\u001b[1;34m(num, cartas)\u001b[0m\n\u001b[0;32m     17\u001b[0m \u001b[1;32mdef\u001b[0m \u001b[0msubset_cartas\u001b[0m\u001b[1;33m(\u001b[0m\u001b[0mnum\u001b[0m\u001b[1;33m,\u001b[0m\u001b[0mcartas\u001b[0m\u001b[1;33m)\u001b[0m\u001b[1;33m:\u001b[0m\u001b[1;33m\u001b[0m\u001b[1;33m\u001b[0m\u001b[0m\n\u001b[0;32m     18\u001b[0m     \u001b[1;32mfor\u001b[0m \u001b[0mi\u001b[0m \u001b[1;32min\u001b[0m \u001b[1;33m(\u001b[0m\u001b[1;36m1\u001b[0m\u001b[1;33m,\u001b[0m \u001b[0mnum\u001b[0m\u001b[1;33m)\u001b[0m\u001b[1;33m:\u001b[0m\u001b[1;33m\u001b[0m\u001b[1;33m\u001b[0m\u001b[0m\n\u001b[1;32m---> 19\u001b[1;33m         \u001b[0mresult\u001b[0m \u001b[1;33m=\u001b[0m \u001b[0mrn\u001b[0m\u001b[1;33m.\u001b[0m\u001b[0mchoice\u001b[0m\u001b[1;33m(\u001b[0m\u001b[0mcartas\u001b[0m\u001b[1;33m)\u001b[0m\u001b[1;33m\u001b[0m\u001b[1;33m\u001b[0m\u001b[0m\n\u001b[0m\u001b[0;32m     20\u001b[0m \u001b[1;33m\u001b[0m\u001b[0m\n\u001b[0;32m     21\u001b[0m     \u001b[1;32mreturn\u001b[0m \u001b[0mresult\u001b[0m\u001b[1;33m\u001b[0m\u001b[1;33m\u001b[0m\u001b[0m\n",
      "\u001b[1;32m~\\anaconda3\\lib\\random.py\u001b[0m in \u001b[0;36mchoice\u001b[1;34m(self, seq)\u001b[0m\n\u001b[0;32m    344\u001b[0m         \u001b[1;34m\"\"\"Choose a random element from a non-empty sequence.\"\"\"\u001b[0m\u001b[1;33m\u001b[0m\u001b[1;33m\u001b[0m\u001b[0m\n\u001b[0;32m    345\u001b[0m         \u001b[1;31m# raises IndexError if seq is empty\u001b[0m\u001b[1;33m\u001b[0m\u001b[1;33m\u001b[0m\u001b[0m\n\u001b[1;32m--> 346\u001b[1;33m         \u001b[1;32mreturn\u001b[0m \u001b[0mseq\u001b[0m\u001b[1;33m[\u001b[0m\u001b[0mself\u001b[0m\u001b[1;33m.\u001b[0m\u001b[0m_randbelow\u001b[0m\u001b[1;33m(\u001b[0m\u001b[0mlen\u001b[0m\u001b[1;33m(\u001b[0m\u001b[0mseq\u001b[0m\u001b[1;33m)\u001b[0m\u001b[1;33m)\u001b[0m\u001b[1;33m]\u001b[0m\u001b[1;33m\u001b[0m\u001b[1;33m\u001b[0m\u001b[0m\n\u001b[0m\u001b[0;32m    347\u001b[0m \u001b[1;33m\u001b[0m\u001b[0m\n\u001b[0;32m    348\u001b[0m     \u001b[1;32mdef\u001b[0m \u001b[0mshuffle\u001b[0m\u001b[1;33m(\u001b[0m\u001b[0mself\u001b[0m\u001b[1;33m,\u001b[0m \u001b[0mx\u001b[0m\u001b[1;33m,\u001b[0m \u001b[0mrandom\u001b[0m\u001b[1;33m=\u001b[0m\u001b[1;32mNone\u001b[0m\u001b[1;33m)\u001b[0m\u001b[1;33m:\u001b[0m\u001b[1;33m\u001b[0m\u001b[1;33m\u001b[0m\u001b[0m\n",
      "\u001b[1;31mTypeError\u001b[0m: 'set' object is not subscriptable"
     ]
    }
   ],
   "source": [
    "import pandas as pd\n",
    "import random as rn\n",
    "\n",
    "def create_set_cartas():\n",
    "    cartas = set()\n",
    "    tipo = ['T','C','P','E']\n",
    "    for j in tipo:\n",
    "        print(j)\n",
    "        for i in range(1, 14, 1):\n",
    "            if i < 10:\n",
    "                carta = '0'+str(i)+j\n",
    "            else:\n",
    "                carta = str(i)+j\n",
    "            cartas.add(carta)\n",
    "    return cartas\n",
    "\n",
    "def subset_cartas(num,cartas):\n",
    "    for i in (1, num):\n",
    "        result = rn.choice(cartas)\n",
    "    \n",
    "    return result\n",
    "    \n",
    "cartas = create_set_cartas()\n",
    "print(df)\n",
    "df1 = subset_cartas(rn.randint(1,53), cartas)"
   ]
  },
  {
   "cell_type": "markdown",
   "id": "7ef92c85-954a-4235-8b22-cf964ce9060b",
   "metadata": {},
   "source": [
    "---"
   ]
  },
  {
   "cell_type": "code",
   "execution_count": null,
   "id": "e9c3d7fa-2808-4bbf-b3b9-08b3f317f86e",
   "metadata": {},
   "outputs": [],
   "source": []
  }
 ],
 "metadata": {
  "kernelspec": {
   "display_name": "Python 3 (ipykernel)",
   "language": "python",
   "name": "python3"
  },
  "language_info": {
   "codemirror_mode": {
    "name": "ipython",
    "version": 3
   },
   "file_extension": ".py",
   "mimetype": "text/x-python",
   "name": "python",
   "nbconvert_exporter": "python",
   "pygments_lexer": "ipython3",
   "version": "3.9.13"
  }
 },
 "nbformat": 4,
 "nbformat_minor": 5
}
